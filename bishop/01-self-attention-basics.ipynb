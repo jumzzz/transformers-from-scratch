{
 "cells": [
  {
   "cell_type": "code",
   "execution_count": 2,
   "metadata": {},
   "outputs": [],
   "source": [
    "import numpy as np"
   ]
  },
  {
   "cell_type": "code",
   "execution_count": 3,
   "metadata": {},
   "outputs": [
    {
     "name": "stdout",
     "output_type": "stream",
     "text": [
      "Input X = \n",
      "[[ 2 99 42]\n",
      " [ 3  5  7]\n",
      " [ 3  5  7]]\n",
      "\n",
      "Attention Weights Softmax[XX^T] = \n",
      "[[0.  0.  0. ]\n",
      " [0.  0.5 0.5]\n",
      " [0.  0.5 0.5]]\n",
      "\n",
      "Self Attention, Y =\n",
      "[[0. 0. 0.]\n",
      " [3. 5. 7.]\n",
      " [3. 5. 7.]]\n"
     ]
    },
    {
     "name": "stderr",
     "output_type": "stream",
     "text": [
      "/var/folders/1j/chhd52wn0z97rq9skbstg0_00000gn/T/ipykernel_2932/2953581310.py:4: RuntimeWarning: invalid value encountered in divide\n",
      "  return np.nan_to_num(exp_num / exp_sum, nan=0)\n"
     ]
    }
   ],
   "source": [
    "def softmax(X):\n",
    "    exp_num = np.exp(-X)\n",
    "    exp_sum = np.sum(exp_num, axis=1)\n",
    "    return np.nan_to_num(exp_num / exp_sum, nan=0)\n",
    "\n",
    "def rand_ints(size):\n",
    "    return np.random.randint(0,9, size)\n",
    "\n",
    "X = np.array([\n",
    "    np.random.randint(1, 100, 3),\n",
    "    np.array([3,5,7]),               # Should be similar wrt row 4\n",
    "    np.array([3,5,7]),               # Should be similar wrt row 1\n",
    "])\n",
    "\n",
    "print('Input X = ')\n",
    "print(X)\n",
    "print('')\n",
    "print('Attention Weights Softmax[XX^T] = ')\n",
    "atten_weights = softmax(X @ X.T)\n",
    "print(np.round(atten_weights, 2))\n",
    "\n",
    "print('')\n",
    "print('Self Attention, Y =')\n",
    "print(np.round(atten_weights @ X, 2))"
   ]
  },
  {
   "cell_type": "code",
   "execution_count": 5,
   "metadata": {},
   "outputs": [
    {
     "name": "stdout",
     "output_type": "stream",
     "text": [
      "Input X = \n",
      "[[  1   2   3   4   5]\n",
      " [  1   2   3   4   5]\n",
      " [ 58   4  24  48  68]\n",
      " [404 922  60 544 756]\n",
      " [415 385 132  84 359]]\n",
      "\n",
      "Attention Weights Softmax[XX^T] = \n",
      "[[0.5 0.5 0.5 0.  0. ]\n",
      " [0.5 0.5 0.5 0.  0. ]\n",
      " [0.  0.  0.  0.  0. ]\n",
      " [0.  0.  0.  0.  0. ]\n",
      " [0.  0.  0.  0.  0. ]]\n",
      "\n",
      "Self Attention, Y =\n",
      "[[30.  4. 15. 28. 39.]\n",
      " [30.  4. 15. 28. 39.]\n",
      " [ 0.  0.  0.  0.  0.]\n",
      " [ 0.  0.  0.  0.  0.]\n",
      " [ 0.  0.  0.  0.  0.]]\n"
     ]
    },
    {
     "name": "stderr",
     "output_type": "stream",
     "text": [
      "/var/folders/1j/chhd52wn0z97rq9skbstg0_00000gn/T/ipykernel_2932/2953581310.py:4: RuntimeWarning: invalid value encountered in divide\n",
      "  return np.nan_to_num(exp_num / exp_sum, nan=0)\n"
     ]
    }
   ],
   "source": [
    "X = np.array([\n",
    "    np.arange(1,6),\n",
    "    np.arange(1,6),               # Should be similar wrt row 4\n",
    "    np.random.randint(0, 100, 5),\n",
    "    np.random.randint(50, 1000, 5),\n",
    "    np.random.randint(80, 500, 5),\n",
    "])\n",
    "\n",
    "print('Input X = ')\n",
    "print(X)\n",
    "print('')\n",
    "print('Attention Weights Softmax[XX^T] = ')\n",
    "atten_weights = softmax(X @ X.T)\n",
    "print(np.round(atten_weights, 2))\n",
    "\n",
    "print('')\n",
    "print('Self Attention, Y =')\n",
    "print(np.round(atten_weights @ X, 2))"
   ]
  },
  {
   "cell_type": "code",
   "execution_count": null,
   "metadata": {},
   "outputs": [],
   "source": []
  },
  {
   "cell_type": "code",
   "execution_count": null,
   "metadata": {},
   "outputs": [],
   "source": []
  }
 ],
 "metadata": {
  "kernelspec": {
   "display_name": "ml",
   "language": "python",
   "name": "python3"
  },
  "language_info": {
   "codemirror_mode": {
    "name": "ipython",
    "version": 3
   },
   "file_extension": ".py",
   "mimetype": "text/x-python",
   "name": "python",
   "nbconvert_exporter": "python",
   "pygments_lexer": "ipython3",
   "version": "3.11.7"
  }
 },
 "nbformat": 4,
 "nbformat_minor": 2
}
