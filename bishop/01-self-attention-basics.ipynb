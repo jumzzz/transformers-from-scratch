{
 "cells": [
  {
   "cell_type": "code",
   "execution_count": 77,
   "metadata": {},
   "outputs": [],
   "source": [
    "import numpy as np\n",
    "import jax.numpy as jnp\n",
    "import jax"
   ]
  },
  {
   "cell_type": "code",
   "execution_count": 87,
   "metadata": {},
   "outputs": [],
   "source": [
    "def softmax(matrix):\n",
    "    # Subtract the max for numerical stability\n",
    "    shift_matrix = matrix - np.max(matrix, axis=1, keepdims=True)\n",
    "    exp_matrix = np.exp(shift_matrix)\n",
    "    sum_exp = np.sum(exp_matrix, axis=1, keepdims=True)\n",
    "    softmax_matrix = exp_matrix / sum_exp\n",
    "    return np.round(softmax_matrix, 10)"
   ]
  },
  {
   "cell_type": "code",
   "execution_count": 95,
   "metadata": {},
   "outputs": [
    {
     "name": "stdout",
     "output_type": "stream",
     "text": [
      "[[5.0000000e-01 1.7212387e-14 5.0000000e-01]\n",
      " [4.5395809e-05 9.9990916e-01 4.5395809e-05]\n",
      " [5.0000000e-01 1.7212387e-14 5.0000000e-01]]\n",
      "[[5.00000000e-01 0.00000000e+00 5.00000000e-01]\n",
      " [4.53958000e-05 9.99909208e-01 4.53958000e-05]\n",
      " [5.00000000e-01 0.00000000e+00 5.00000000e-01]]\n"
     ]
    }
   ],
   "source": [
    "X = np.array([\n",
    "    np.array([3,5,7]),               # Should be similar wrt row 4\n",
    "    np.random.randint(1, 10, 3),\n",
    "    np.array([3,5,7]),               # Should be similar wrt row 1\n",
    "])\n",
    "\n",
    "print(jax.nn.softmax(X @ X.T))\n",
    "print(softmax(X @ X.T))\n",
    "# print(jax)"
   ]
  },
  {
   "cell_type": "code",
   "execution_count": 94,
   "metadata": {},
   "outputs": [
    {
     "data": {
      "text/plain": [
       "array([[ 1.72835065,  1.05970779,  1.4835909 ],\n",
       "       [11.020961  , 25.34914293, 11.020961  ],\n",
       "       [ 0.63582467,  1.05970779,  4.03281819]])"
      ]
     },
     "execution_count": 94,
     "metadata": {},
     "output_type": "execute_result"
    }
   ],
   "source": [
    "softmax(np.eye(3)) * X"
   ]
  },
  {
   "cell_type": "code",
   "execution_count": 113,
   "metadata": {},
   "outputs": [
    {
     "name": "stdout",
     "output_type": "stream",
     "text": [
      "Input X = \n",
      "[[3 6 5]\n",
      " [7 9 6]\n",
      " [3 9 9]]\n",
      "\n",
      "X^T = \n",
      "[[3 7 3]\n",
      " [6 9 9]\n",
      " [5 6 9]]\n",
      "\n",
      "XX^T = \n",
      "[[ 70 105 108]\n",
      " [105 166 156]\n",
      " [108 156 171]]\n",
      "\n",
      "Attention Weights Softmax[XX^T] = \n",
      "[[0.   0.05 0.95]\n",
      " [0.   1.   0.  ]\n",
      " [0.   0.   1.  ]]\n",
      "\n",
      "Self Attention, Y =\n",
      "[[3.19 9.   8.86]\n",
      " [7.   9.   6.  ]\n",
      " [3.   9.   9.  ]]\n"
     ]
    }
   ],
   "source": [
    "\n",
    "def rand_ints(size):\n",
    "    return np.random.randint(0,9, size)\n",
    "\n",
    "X = np.array([\n",
    "    np.random.randint(1, 10, 3),\n",
    "    np.random.randint(1, 10, 3),\n",
    "    np.random.randint(1, 10, 3),\n",
    "    # np.array([3,5,7]),               # Should be similar wrt row 4\n",
    "    # np.array([3,5,7]),               # Should be similar wrt row 1\n",
    "])\n",
    "\n",
    "print('Input X = ')\n",
    "print(X)\n",
    "print('')\n",
    "\n",
    "print('X^T = ')\n",
    "print(X.T)\n",
    "print('')\n",
    "\n",
    "print('XX^T = ')\n",
    "print(X @ X.T)\n",
    "print('')\n",
    "\n",
    "\n",
    "atten_weights = softmax(X @ X.T)\n",
    "\n",
    "print('Attention Weights Softmax[XX^T] = ')\n",
    "print(np.round(atten_weights, 2))\n",
    "\n",
    "print('')\n",
    "print('Self Attention, Y =')\n",
    "print(np.round(atten_weights @ X, 2))"
   ]
  },
  {
   "cell_type": "code",
   "execution_count": null,
   "metadata": {},
   "outputs": [],
   "source": []
  },
  {
   "cell_type": "code",
   "execution_count": 116,
   "metadata": {},
   "outputs": [
    {
     "name": "stdout",
     "output_type": "stream",
     "text": [
      "X = \n",
      "[[  1   2   3   4   5]\n",
      " [  1   2   3   4   5]\n",
      " [ 67  86  10   7  69]\n",
      " [590 596 801 121 675]\n",
      " [494 363 288 439 119]]\n",
      "\n",
      "X^T = \n",
      "[[  1   1  67 590 494]\n",
      " [  2   2  86 596 363]\n",
      " [  3   3  10 801 288]\n",
      " [  4   4   7 121 439]\n",
      " [  5   5  69 675 119]]\n",
      "\n",
      "XX^T = \n",
      "[[     55      55     642    8044    4435]\n",
      " [     55      55     642    8044    4435]\n",
      " [    642     642   16795  146218   78480]\n",
      " [   8044    8044  146218 1815183  871940]\n",
      " [   4435    4435   78480  871940  665631]]\n",
      "\n",
      "Attention Weights Softmax[XX^T] = \n",
      "[[0. 0. 0. 1. 0.]\n",
      " [0. 0. 0. 1. 0.]\n",
      " [0. 0. 0. 1. 0.]\n",
      " [0. 0. 0. 1. 0.]\n",
      " [0. 0. 0. 1. 0.]]\n",
      "\n",
      "Self Attention, Y =\n",
      "[[590. 596. 801. 121. 675.]\n",
      " [590. 596. 801. 121. 675.]\n",
      " [590. 596. 801. 121. 675.]\n",
      " [590. 596. 801. 121. 675.]\n",
      " [590. 596. 801. 121. 675.]]\n"
     ]
    }
   ],
   "source": [
    "X = np.array([\n",
    "    np.arange(1,6),\n",
    "    np.arange(1,6),               # Should be similar wrt row 4\n",
    "    np.random.randint(0, 100, 5),\n",
    "    np.random.randint(50, 1000, 5),\n",
    "    np.random.randint(80, 500, 5),\n",
    "])\n",
    "# X = np.array([\n",
    "#     np.arange(1,6),\n",
    "#     np.arange(1,6),               # Should be similar wrt row 4\n",
    "#     np.random.randint(0, 10, 5),\n",
    "#     np.random.randint(10, 20, 5),\n",
    "#     np.random.randint(10, 30, 5),\n",
    "# ])\n",
    "\n",
    "print('X = ')\n",
    "print(X)\n",
    "print('')\n",
    "\n",
    "print('X^T = ')\n",
    "print(X.T)\n",
    "print('')\n",
    "\n",
    "\n",
    "print('XX^T = ')\n",
    "print(X @ X.T)\n",
    "print('')\n",
    "\n",
    "\n",
    "print('Attention Weights Softmax[XX^T] = ')\n",
    "# atten_weights = softmax(X @ X.T)\n",
    "atten_weights = softmax(X @ X.T)\n",
    "# atten_weights = jax.nn.softmax(X @ X.T).numpy()\n",
    "print(np.round(atten_weights, 2))\n",
    "\n",
    "print('')\n",
    "print('Self Attention, Y =')\n",
    "print(np.round(atten_weights @ X, 2))"
   ]
  },
  {
   "cell_type": "code",
   "execution_count": 117,
   "metadata": {},
   "outputs": [
    {
     "name": "stdout",
     "output_type": "stream",
     "text": [
      "Input X = \n",
      "[[ 7  6  1]\n",
      " [ 9  5  3]\n",
      " [99 97 91]\n",
      " [ 8  4  3]\n",
      " [ 4  1  7]\n",
      " [ 4  4  3]\n",
      " [ 6  8  6]]\n",
      "\n",
      "X^T = \n",
      "[[ 7  9 99  8  4  4  6]\n",
      " [ 6  5 97  4  1  4  8]\n",
      " [ 1  3 91  3  7  3  6]]\n",
      "\n",
      "XX^T = \n",
      "[[   86    96  1366    83    41    55    96]\n",
      " [   96   115  1649   101    62    65   112]\n",
      " [ 1366  1649 27491  1453  1130  1057  1916]\n",
      " [   83   101  1453    89    57    57    98]\n",
      " [   41    62  1130    57    66    41    74]\n",
      " [   55    65  1057    57    41    41    74]\n",
      " [   96   112  1916    98    74    74   136]]\n",
      "\n",
      "Attention Weights Softmax[XX^T] = \n",
      "[[0. 0. 1. 0. 0. 0. 0.]\n",
      " [0. 0. 1. 0. 0. 0. 0.]\n",
      " [0. 0. 1. 0. 0. 0. 0.]\n",
      " [0. 0. 1. 0. 0. 0. 0.]\n",
      " [0. 0. 1. 0. 0. 0. 0.]\n",
      " [0. 0. 1. 0. 0. 0. 0.]\n",
      " [0. 0. 1. 0. 0. 0. 0.]]\n",
      "\n",
      "Self Attention, Y =\n",
      "[[99. 97. 91.]\n",
      " [99. 97. 91.]\n",
      " [99. 97. 91.]\n",
      " [99. 97. 91.]\n",
      " [99. 97. 91.]\n",
      " [99. 97. 91.]\n",
      " [99. 97. 91.]]\n"
     ]
    }
   ],
   "source": [
    "X = np.array([\n",
    "    np.random.randint(1, 10, 3),\n",
    "    np.random.randint(1, 10, 3),\n",
    "    np.random.randint(90, 100, 3),\n",
    "    np.random.randint(1, 10, 3),\n",
    "    np.random.randint(1, 10, 3),\n",
    "    np.random.randint(1, 10, 3),\n",
    "    np.random.randint(1, 10, 3),\n",
    "    # np.array([3,5,7]),               # Should be similar wrt row 4\n",
    "    # np.array([3,5,7]),               # Should be similar wrt row 1\n",
    "])\n",
    "\n",
    "print('Input X = ')\n",
    "print(X)\n",
    "print('')\n",
    "\n",
    "print('X^T = ')\n",
    "print(X.T)\n",
    "print('')\n",
    "\n",
    "print('XX^T = ')\n",
    "print(X @ X.T)\n",
    "print('')\n",
    "\n",
    "\n",
    "atten_weights = softmax(X @ X.T)\n",
    "\n",
    "print('Attention Weights Softmax[XX^T] = ')\n",
    "print(np.round(atten_weights, 2))\n",
    "\n",
    "print('')\n",
    "print('Self Attention, Y =')\n",
    "print(np.round(atten_weights @ X, 2))"
   ]
  },
  {
   "cell_type": "markdown",
   "metadata": {},
   "source": []
  },
  {
   "cell_type": "code",
   "execution_count": 176,
   "metadata": {},
   "outputs": [
    {
     "data": {
      "image/png": "[encoded data removed]",
      "text/plain": [
       "<Figure size 640x480 with 1 Axes>"
      ]
     },
     "metadata": {},
     "output_type": "display_data"
    }
   ],
   "source": [
    "import matplotlib.pyplot as plt\n",
    "\n",
    "def distance(X,Y):\n",
    "    dims = X.shape[1]\n",
    "    dist = np.abs(X ** dims - Y ** dims)\n",
    "    dist = dist ** (1 / dims)\n",
    "    return np.sum(dist, axis=1)\n",
    "\n",
    "total_sample = 100\n",
    "\n",
    "actual_min_index = []\n",
    "rare_row_index = []\n",
    "\n",
    "for sample in range(10000): \n",
    "\n",
    "    start_row = 0\n",
    "    end_row = 100\n",
    "\n",
    "    rare_row = np.random.randint(0, 50)\n",
    "\n",
    "    typical_low = 0\n",
    "    typical_high = 0\n",
    "\n",
    "    while typical_low == typical_high:\n",
    "        typical_r0 = np.random.randint(0, 100)\n",
    "        typical_r1 = np.random.randint(0, 100)\n",
    "        typical_low = min(typical_r0, typical_r1)\n",
    "        typical_high = max(typical_r0, typical_r1)\n",
    "\n",
    "    rare_low = 0\n",
    "    rare_high = 0\n",
    "\n",
    "    while rare_low == rare_high: \n",
    "        rare_r0 = np.random.randint(0, 100)\n",
    "        rare_r1 = np.random.randint(0, 100)\n",
    "        rare_low = min(rare_r0, rare_r1)\n",
    "        rare_high = max(rare_r0, rare_r1)\n",
    "\n",
    "    col_size = 10\n",
    "    tokens_list = []\n",
    "\n",
    "    for i in range(0, end_row):\n",
    "        if i == rare_row:\n",
    "            tokens_list.append(np.random.randint(rare_low, rare_high, col_size))\n",
    "        else:\n",
    "            tokens_list.append(np.random.randint(typical_low, typical_high, col_size))\n",
    "\n",
    "    tokens = np.array(tokens_list)\n",
    "\n",
    "    res = softmax(tokens @ tokens.T) @ tokens\n",
    "    actual_min_index.append(np.argmin(distance(res, tokens)))\n",
    "    rare_row_index.append(rare_row)\n",
    "\n",
    "total_match = 0\n",
    "for x,y in zip(actual_min_index, rare_row_index):\n",
    "    if x == y:\n",
    "        total_match += 1\n",
    "\n",
    "total_sample = len(actual_min_index)\n",
    "# np.round(total_match / 100)\n",
    "percent_match = total_match / total_sample\n",
    "\n",
    "plt.plot(np.arange(len(actual_min_index)), actual_min_index, color='red', label='actual')\n",
    "plt.plot(np.arange(len(actual_min_index)), rare_row_index, color='blue', label='rare')\n",
    "plt.title(f'Total Match = {percent_match}')\n",
    "plt.legend()\n",
    "plt.show()\n"
   ]
  },
  {
   "cell_type": "markdown",
   "metadata": {},
   "source": [
    "#### Insights\n",
    "- Self Attention are more likely to mask the rarest instance of tokens. It implies that it will pay attention more to some set of tokens that's has higher entropy.\n",
    "- Our experiment shows around **~36%** of the time"
   ]
  },
  {
   "cell_type": "code",
   "execution_count": null,
   "metadata": {},
   "outputs": [],
   "source": []
  },
  {
   "cell_type": "code",
   "execution_count": null,
   "metadata": {},
   "outputs": [],
   "source": []
  },
  {
   "cell_type": "code",
   "execution_count": null,
   "metadata": {},
   "outputs": [],
   "source": []
  }
 ],
 "metadata": {
  "kernelspec": {
   "display_name": "ml",
   "language": "python",
   "name": "python3"
  },
  "language_info": {
   "codemirror_mode": {
    "name": "ipython",
    "version": 3
   },
   "file_extension": ".py",
   "mimetype": "text/x-python",
   "name": "python",
   "nbconvert_exporter": "python",
   "pygments_lexer": "ipython3",
   "version": "3.11.7"
  }
 },
 "nbformat": 4,
 "nbformat_minor": 2
}
